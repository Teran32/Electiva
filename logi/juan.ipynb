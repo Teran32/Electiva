{
 "cells": [
  {
   "cell_type": "markdown",
   "id": "4eab6e1b",
   "metadata": {},
   "source": [
    "Alert('HOLA')  //Mensaje emergente en la pantalla"
   ]
  },
  {
   "cell_type": "code",
   "execution_count": null,
   "id": "91abd58f",
   "metadata": {
    "vscode": {
     "languageId": "javascript"
    }
   },
   "outputs": [],
   "source": [
    "alert('hola')"
   ]
  },
  {
   "cell_type": "markdown",
   "id": "2573c44e",
   "metadata": {},
   "source": [
    "document.write(\"hola\")  // una linea de palabras"
   ]
  },
  {
   "cell_type": "code",
   "execution_count": null,
   "id": "74a65a0c",
   "metadata": {
    "vscode": {
     "languageId": "javascript"
    }
   },
   "outputs": [],
   "source": [
    "document.write(\"hola\")"
   ]
  },
  {
   "cell_type": "markdown",
   "id": "8fa47ed6",
   "metadata": {},
   "source": [
    "var  // con var se declaran las variables\n",
    "ejemplo:\n",
    "\n",
    "var dia = 7;   o  var dia,mes,año;\n",
    "\n",
    "// se puede declarar varibles tambien con let y const pero const no puedes cambiarle la varible mas adelante "
   ]
  },
  {
   "cell_type": "markdown",
   "id": "d5b8c27d",
   "metadata": {},
   "source": [
    "prompt('Ingrese su edad:','');   // sale una ventana emergente por el cual puedes ingresar por teclado"
   ]
  },
  {
   "cell_type": "code",
   "execution_count": null,
   "id": "6f30338b",
   "metadata": {
    "vscode": {
     "languageId": "javascript"
    }
   },
   "outputs": [],
   "source": [
    "prompt('Ingrese su edad:','');"
   ]
  },
  {
   "cell_type": "markdown",
   "id": "99f0eec3",
   "metadata": {},
   "source": [
    "var suma=parseInt(valor1)+parseInt(valor2);    // este codigo se utiliza para sumar dos valore porque si no te une los dos valores pero no los suma.\n",
    "\n",
    "el \"parseInt\" es una funcion que se trae al codigo\n",
    "\n",
    "nota1=parseInt(nota1); \n",
    "nota2=parseInt(nota2);   \n",
    "nota3=parseInt(nota3); // asi convierte las string ingresados a enteros para la suma"
   ]
  },
  {
   "cell_type": "code",
   "execution_count": null,
   "id": "d6318c3a",
   "metadata": {
    "vscode": {
     "languageId": "javascript"
    }
   },
   "outputs": [],
   "source": [
    "var suma=parseInt(valor1)+parseInt(valor2);"
   ]
  },
  {
   "cell_type": "markdown",
   "id": "23f23e1b",
   "metadata": {},
   "source": [
    "operadores relacionales: \n",
    "mayor, >= mayor o igual , < menor ,<= menor o igual , != distinto , == igual \n",
    "\n",
    "\"if\"  y \"else\"// se utiliza para las condicionales (lo mas normal de siempre)"
   ]
  },
  {
   "cell_type": "code",
   "execution_count": null,
   "id": "eb5d2deb",
   "metadata": {
    "vscode": {
     "languageId": "javascript"
    }
   },
   "outputs": [],
   "source": [
    "var nombre; \n",
    "var nota; \n",
    "nombre=prompt('Ingrese nombre:',''); \n",
    "nota=prompt('Ingrese su nota:',''); \n",
    "if (nota>=4) \n",
    "{ \n",
    "document.write(nombre+' esta aprobado con un '+nota); \n",
    "} \n",
    "else\n",
    "{\n",
    "    document.write(nombre+' esta reprobado con un '+nota); \n",
    "}"
   ]
  },
  {
   "cell_type": "markdown",
   "id": "5a5a9332",
   "metadata": {},
   "source": [
    "Operadores logicos:  \n",
    "\"&\" y ,\"||\" O,"
   ]
  },
  {
   "cell_type": "markdown",
   "id": "45575b43",
   "metadata": {},
   "source": [
    "Estructuras switch:"
   ]
  },
  {
   "cell_type": "code",
   "execution_count": null,
   "id": "0d0ffbc0",
   "metadata": {
    "vscode": {
     "languageId": "javascript"
    }
   },
   "outputs": [],
   "source": [
    " \n",
    "var valor; \n",
    "valor=prompt('Ingrese un valor comprendido entre 1 y 5:',''); \n",
    "//Convertimos a entero \n",
    "valor=parseInt(valor); \n",
    "switch (valor) { \n",
    "case 1: document.write('uno'); \n",
    "break; \n",
    "case 2: document.write('dos'); \n",
    "break; \n",
    "case 3: document.write('tres'); \n",
    "break; \n",
    "case 4: document.write('cuatro'); \n",
    "break; \n",
    "case 5: document.write('cinco'); \n",
    "break; \n",
    "default:document.write('debe ingresar un valor comprendido entre 1 y 5.'); \n",
    "} "
   ]
  },
  {
   "cell_type": "markdown",
   "id": "b9506ad3",
   "metadata": {},
   "source": [
    "document.bgColor='#ff0000'  // propiedad bgColor del objeto document se utiliza paar cambiar el color "
   ]
  },
  {
   "cell_type": "markdown",
   "id": "8e40d5c0",
   "metadata": {},
   "source": [
    "while:"
   ]
  },
  {
   "cell_type": "code",
   "execution_count": null,
   "id": "f24890c8",
   "metadata": {
    "vscode": {
     "languageId": "javascript"
    }
   },
   "outputs": [],
   "source": [
    "var x; \n",
    "x=1; \n",
    "while (x<=100) \n",
    "{ \n",
    "document.write(x); \n",
    "document.write('<br>'); \n",
    "x=x+1; \n",
    "} \n",
    "\n",
    "// otro ejemplo\n",
    "\n",
    "var x=1; \n",
    "var suma=0; \n",
    "var valor; \n",
    "while (x<=5) \n",
    "{ \n",
    "valor=prompt('Ingrese valor:',''); \n",
    "valor=parseInt(valor); \n",
    "suma=suma+valor; \n",
    "x=x+1; \n",
    "} \n",
    "document.write(\"La suma de los valores es \"+suma+\"<br>\"); "
   ]
  },
  {
   "cell_type": "markdown",
   "id": "0585725e",
   "metadata": {},
   "source": [
    "Implementando funciones"
   ]
  },
  {
   "cell_type": "code",
   "execution_count": null,
   "id": "cfd7d2a9",
   "metadata": {
    "vscode": {
     "languageId": "javascript"
    }
   },
   "outputs": [],
   "source": [
    "function mostrarMensaje() \n",
    "{ \n",
    "document.write(\"Cuidado<br>\"); \n",
    "document.write(\"Ingrese su documento correctamente<br>\"); \n",
    "} \n",
    "mostrarMensaje(); \n",
    "mostrarMensaje(); \n",
    "mostrarMensaje();"
   ]
  },
  {
   "cell_type": "markdown",
   "id": "631fa21a",
   "metadata": {},
   "source": [
    "Ejmplo de una funcion con parametros "
   ]
  },
  {
   "cell_type": "code",
   "execution_count": null,
   "id": "75e1ac84",
   "metadata": {
    "vscode": {
     "languageId": "javascript"
    }
   },
   "outputs": [],
   "source": [
    "function mostrarComprendidos(x1,x2) \n",
    "{ \n",
    "var inicio; \n",
    "for(inicio=x1;inicio<=x2;inicio++) \n",
    "{ \n",
    "document.write(inicio+' '); \n",
    "} \n",
    "} \n",
    "var valor1,valor2; \n",
    "valor1=prompt('Ingrese valor inferior:',''); \n",
    "valor1=parseInt(valor1); \n",
    "valor2=prompt('Ingrese valor superior:',''); \n",
    "valor2=parseInt(valor2); \n",
    "mostrarComprendidos(valor1,valor2); \n",
    "\n",
    "// OTRO EJEMPLO SERIA \n",
    "\n",
    "function convertirCastellano(x) \n",
    "{ \n",
    "if (x==1) \n",
    "return \"uno\"; \n",
    "else \n",
    "if (x==2) \n",
    "return \"dos\"; \n",
    "else \n",
    "if (x==3) \n",
    "return \"tres\"; \n",
    "else \n",
    "if (x==4) \n",
    "return \"cuatro\"; \n",
    "else \n",
    "if (x==5) \n",
    "return \"cinco\"; \n",
    "else \n",
    "return \"valor incorrecto\"; \n",
    "} \n",
    "var valor; \n",
    "valor=prompt(\"Ingrese un valor entre 1 y 5\",\"\"); \n",
    "valor=parseInt(valor); \n",
    "var r; \n",
    "r=convertirCastellano(valor); \n",
    "document.write(r); "
   ]
  }
 ],
 "metadata": {
  "kernelspec": {
   "display_name": "Python 3",
   "language": "python",
   "name": "python3"
  },
  "language_info": {
   "codemirror_mode": {
    "name": "ipython",
    "version": 3
   },
   "file_extension": ".py",
   "mimetype": "text/x-python",
   "name": "python",
   "nbconvert_exporter": "python",
   "pygments_lexer": "ipython3",
   "version": "3.13.0"
  }
 },
 "nbformat": 4,
 "nbformat_minor": 5
}
